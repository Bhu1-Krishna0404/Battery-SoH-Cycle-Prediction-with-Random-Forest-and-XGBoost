{
 "cells": [
  {
   "cell_type": "code",
   "execution_count": 14,
   "id": "9bcf1fc0",
   "metadata": {},
   "outputs": [],
   "source": [
    "import pandas as pd\n",
    "from sklearn.model_selection import train_test_split\n",
    "from sklearn.preprocessing import StandardScaler, LabelEncoder\n",
    "from sklearn.ensemble import RandomForestRegressor, GradientBoostingRegressor\n",
    "from sklearn.metrics import mean_squared_error, r2_score\n",
    "import joblib"
   ]
  },
  {
   "cell_type": "code",
   "execution_count": 2,
   "id": "55a1baef",
   "metadata": {},
   "outputs": [],
   "source": [
    "try:\n",
    "    from xgboost import XGBRegressor\n",
    "    xgb_installed = True\n",
    "except ImportError:\n",
    "    xgb_installed = False"
   ]
  },
  {
   "cell_type": "code",
   "execution_count": 3,
   "id": "50eb8abb",
   "metadata": {},
   "outputs": [],
   "source": [
    "df = pd.read_csv(\"Battery_dataset.csv\")"
   ]
  },
  {
   "cell_type": "code",
   "execution_count": 4,
   "id": "e1b2e1ad",
   "metadata": {},
   "outputs": [],
   "source": [
    "le = LabelEncoder()\n",
    "df['battery_id'] = le.fit_transform(df['battery_id'])\n"
   ]
  },
  {
   "cell_type": "code",
   "execution_count": 5,
   "id": "e1cecc50",
   "metadata": {},
   "outputs": [],
   "source": [
    "features = ['battery_id', 'cycle', 'chI', 'chV', 'chT', 'disI', 'disV', 'disT', 'BCt']\n",
    "target_soh = 'SOH'\n",
    "target_rul = 'RUL'\n",
    "\n",
    "X = df[features]\n",
    "y_soh = df[target_soh]\n",
    "y_rul = df[target_rul]\n"
   ]
  },
  {
   "cell_type": "code",
   "execution_count": 6,
   "id": "c36a7ccc",
   "metadata": {},
   "outputs": [],
   "source": [
    "X_train, X_test, y_soh_train, y_soh_test, y_rul_train, y_rul_test = train_test_split(\n",
    "    X, y_soh, y_rul, test_size=0.2, random_state=42\n",
    ")"
   ]
  },
  {
   "cell_type": "code",
   "execution_count": 7,
   "id": "edb07d7d",
   "metadata": {},
   "outputs": [],
   "source": [
    "scaler = StandardScaler()\n",
    "X_train_scaled = scaler.fit_transform(X_train)\n",
    "X_test_scaled = scaler.transform(X_test)\n"
   ]
  },
  {
   "cell_type": "code",
   "execution_count": 8,
   "id": "baff27b5",
   "metadata": {},
   "outputs": [],
   "source": [
    "models = {\n",
    "    \"RandomForest\": RandomForestRegressor(n_estimators=100, random_state=42),\n",
    "    \"GradientBoosting\": GradientBoostingRegressor(n_estimators=100, random_state=42),\n",
    "}"
   ]
  },
  {
   "cell_type": "code",
   "execution_count": 9,
   "id": "b8b22b36",
   "metadata": {},
   "outputs": [],
   "source": [
    "if xgb_installed:\n",
    "    models[\"XGBoost\"] = XGBRegressor(n_estimators=100, random_state=42)\n"
   ]
  },
  {
   "cell_type": "code",
   "execution_count": 10,
   "id": "e6b86137",
   "metadata": {},
   "outputs": [
    {
     "name": "stdout",
     "output_type": "stream",
     "text": [
      "====== Predicting SOH ======\n",
      "RandomForest - R2: 0.9999, MSE: 0.0193\n",
      "GradientBoosting - R2: 0.9999, MSE: 0.0360\n",
      "XGBoost - R2: 0.9996, MSE: 0.0954\n",
      "\n",
      "====== Predicting RUL ======\n",
      "RandomForest - R2: 0.9970, MSE: 11.2381\n",
      "GradientBoosting - R2: 0.9983, MSE: 6.4764\n",
      "XGBoost - R2: 0.9983, MSE: 6.4380\n"
     ]
    }
   ],
   "source": [
    "print(\"====== Predicting SOH ======\")\n",
    "for name, model in models.items():\n",
    "    model.fit(X_train_scaled, y_soh_train)\n",
    "    preds = model.predict(X_test_scaled)\n",
    "    print(f\"{name} - R2: {r2_score(y_soh_test, preds):.4f}, MSE: {mean_squared_error(y_soh_test, preds):.4f}\")\n",
    "\n",
    "print(\"\\n====== Predicting RUL ======\")\n",
    "for name, model in models.items():\n",
    "    model.fit(X_train_scaled, y_rul_train)\n",
    "    preds = model.predict(X_test_scaled)\n",
    "    print(f\"{name} - R2: {r2_score(y_rul_test, preds):.4f}, MSE: {mean_squared_error(y_rul_test, preds):.4f}\")\n"
   ]
  },
  {
   "cell_type": "code",
   "execution_count": 11,
   "id": "4646e45b",
   "metadata": {},
   "outputs": [
    {
     "data": {
      "text/plain": [
       "RandomForestRegressor(random_state=42)"
      ]
     },
     "execution_count": 11,
     "metadata": {},
     "output_type": "execute_result"
    }
   ],
   "source": [
    "rf_soh = RandomForestRegressor(n_estimators=100, random_state=42)\n",
    "rf_soh.fit(X_train_scaled, y_soh_train)"
   ]
  },
  {
   "cell_type": "code",
   "execution_count": 12,
   "id": "6805f40f",
   "metadata": {},
   "outputs": [
    {
     "data": {
      "text/plain": [
       "XGBRegressor(base_score=None, booster=None, callbacks=None,\n",
       "             colsample_bylevel=None, colsample_bynode=None,\n",
       "             colsample_bytree=None, device=None, early_stopping_rounds=None,\n",
       "             enable_categorical=False, eval_metric=None, feature_types=None,\n",
       "             gamma=None, grow_policy=None, importance_type=None,\n",
       "             interaction_constraints=None, learning_rate=None, max_bin=None,\n",
       "             max_cat_threshold=None, max_cat_to_onehot=None,\n",
       "             max_delta_step=None, max_depth=None, max_leaves=None,\n",
       "             min_child_weight=None, missing=nan, monotone_constraints=None,\n",
       "             multi_strategy=None, n_estimators=100, n_jobs=None,\n",
       "             num_parallel_tree=None, random_state=42, ...)"
      ]
     },
     "execution_count": 12,
     "metadata": {},
     "output_type": "execute_result"
    }
   ],
   "source": [
    "xgb_rul = XGBRegressor(n_estimators=100, random_state=42)\n",
    "xgb_rul.fit(X_train_scaled, y_rul_train)"
   ]
  },
  {
   "cell_type": "code",
   "execution_count": 16,
   "id": "19bc387f",
   "metadata": {},
   "outputs": [
    {
     "name": "stdout",
     "output_type": "stream",
     "text": [
      "Models and scaler saved successfully!\n"
     ]
    }
   ],
   "source": [
    "joblib.dump(rf_soh, \"soh_model.pkl\")\n",
    "joblib.dump(xgb_rul, \"rul_model.pkl\")\n",
    "joblib.dump(scaler, \"scaler.pkl\")  # Save the scaler too\n",
    "print(\"Models and scaler saved successfully!\")"
   ]
  },
  {
   "cell_type": "code",
   "execution_count": 17,
   "id": "011f7016",
   "metadata": {},
   "outputs": [
    {
     "name": "stdout",
     "output_type": "stream",
     "text": [
      "LabelEncoder saved as battery_le.pkl\n"
     ]
    }
   ],
   "source": [
    "from sklearn.preprocessing import LabelEncoder\n",
    "import joblib\n",
    "\n",
    "battery_ids = [\"B5\", \"B6\", \"B7\"]\n",
    "le_battery = LabelEncoder()\n",
    "le_battery.fit(battery_ids)\n",
    "\n",
    "joblib.dump(le_battery, \"battery_le.pkl\")\n",
    "\n",
    "print(\"LabelEncoder saved as battery_le.pkl\")"
   ]
  },
  {
   "cell_type": "code",
   "execution_count": null,
   "id": "190f3492",
   "metadata": {},
   "outputs": [],
   "source": []
  }
 ],
 "metadata": {
  "kernelspec": {
   "display_name": "Python 3 (ipykernel)",
   "language": "python",
   "name": "python3"
  },
  "language_info": {
   "codemirror_mode": {
    "name": "ipython",
    "version": 3
   },
   "file_extension": ".py",
   "mimetype": "text/x-python",
   "name": "python",
   "nbconvert_exporter": "python",
   "pygments_lexer": "ipython3",
   "version": "3.9.12"
  }
 },
 "nbformat": 4,
 "nbformat_minor": 5
}
